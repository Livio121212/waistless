{
 "cells": [
  {
   "cell_type": "code",
   "execution_count": null,
   "id": "91b7ab98-0919-44cd-9247-85b073f9c5bf",
   "metadata": {},
   "outputs": [
    {
     "name": "stdout",
     "output_type": "stream",
     "text": [
      "Hello David\n",
      "halleluja\n"
     ]
    }
   ],
   "source": [
    "print(\"Hello David\")\n",
    "print(\"halleluja\")\n",
    "print(\"modi\")"
   ]
  }
 ],
 "metadata": {
  "kernelspec": {
   "display_name": "Python 3",
   "language": "python",
   "name": "python3"
  },
  "language_info": {
   "codemirror_mode": {
    "name": "ipython",
    "version": 3
   },
   "file_extension": ".py",
   "mimetype": "text/x-python",
   "name": "python",
   "nbconvert_exporter": "python",
   "pygments_lexer": "ipython3",
   "version": "3.12.3"
  }
 },
 "nbformat": 4,
 "nbformat_minor": 5
}
